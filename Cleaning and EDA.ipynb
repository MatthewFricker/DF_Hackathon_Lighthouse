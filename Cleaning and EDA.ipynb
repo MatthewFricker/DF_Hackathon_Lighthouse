{
 "cells": [
  {
   "cell_type": "code",
   "execution_count": 1,
   "metadata": {},
   "outputs": [],
   "source": [
    "import pandas as pd\n",
    "import numpy as np\n",
    "import matplotlib.pyplot as plt\n",
    "import seaborn as sns\n",
    "import re"
   ]
  },
  {
   "cell_type": "code",
   "execution_count": 2,
   "metadata": {},
   "outputs": [],
   "source": [
    "df = pd.read_csv(\"assets.csv\")\n",
    "df = df[df[\"type\"] == \"model\"]\n",
    "#df.drop(columns=[\"sample\", \"datasheet\", \"included\", \"excluded\", \"adaptation\", \"output_space\", \"terms_of_service\", \"monthly_active_users\", \"user_distribution\", \"failures\"], inplace=True)\n",
    "df[\"created_date\"] = pd.to_datetime(df[\"created_date\"], format=\"%d/%m/%Y\")\n",
    "df[\"inputs\"] = df.modality.str.split(\"; \").str[0].str.split(\", \")\n",
    "df[\"outputs\"] = df.modality.str.split(\"; \").str[1].str.split(\", \")\n",
    "df.drop(columns=\"modality\", inplace = True)\n",
    "df[\"size\"] = df[\"size\"].apply(lambda x: np.nan if x == \"unknown\" else x)\n",
    "df[\"dense\"] = df[\"size\"].str.endswith(\"(dense)\")\n",
    "df[\"dense\"].fillna(False, inplace=True)\n",
    "df[\"parameters\"] = df[\"size\"].str.extract(r\"^(\\d+[a-zA-Z])\")\n",
    "df[\"parameters_(millions)\"] = df[\"parameters\"].str.replace(\"M\", \"\").str.replace(\"B\", \"000\").str.replace(\"T\", \"000000\")\n",
    "df[\"parameters_(millions)\"] = pd.to_numeric(df[\"parameters_(millions)\"], downcast=\"integer\")\n",
    "df.drop(columns=[\"size\", \"parameters\"], inplace=True)\n",
    "df[\"dependencies\"] = df[\"dependencies\"].apply(lambda x: x[1:-1].split(','))\n",
    "df[\"analysis\"].fillna(\"unknown\", inplace=True)\n",
    "df[\"access\"] = df[\"access\"].map({\"open\":2, \"limited\":1, \"closed\": 0})\n",
    "df[\"training_time\"].fillna(\"unknown\", inplace=True)"
   ]
  },
  {
   "cell_type": "code",
   "execution_count": 5,
   "metadata": {},
   "outputs": [
    {
     "name": "stdout",
     "output_type": "stream",
     "text": [
      "<class 'pandas.core.frame.DataFrame'>\n",
      "Index: 359 entries, 3 to 564\n",
      "Data columns (total 33 columns):\n",
      " #   Column                 Non-Null Count  Dtype         \n",
      "---  ------                 --------------  -----         \n",
      " 0   type                   359 non-null    object        \n",
      " 1   name                   359 non-null    object        \n",
      " 2   organization           359 non-null    object        \n",
      " 3   description            299 non-null    object        \n",
      " 4   created_date           357 non-null    datetime64[ns]\n",
      " 5   url                    357 non-null    object        \n",
      " 6   datasheet              0 non-null      object        \n",
      " 7   sample                 0 non-null      object        \n",
      " 8   analysis               359 non-null    object        \n",
      " 9   dependencies           359 non-null    object        \n",
      " 10  included               0 non-null      object        \n",
      " 11  excluded               0 non-null      object        \n",
      " 12  quality_control        85 non-null     object        \n",
      " 13  access                 359 non-null    int64         \n",
      " 14  license                343 non-null    object        \n",
      " 15  intended_uses          129 non-null    object        \n",
      " 16  prohibited_uses        86 non-null     object        \n",
      " 17  monitoring             118 non-null    object        \n",
      " 18  feedback               161 non-null    object        \n",
      " 19  model_card             170 non-null    object        \n",
      " 20  training_emissions     244 non-null    object        \n",
      " 21  training_time          359 non-null    object        \n",
      " 22  training_hardware      262 non-null    object        \n",
      " 23  adaptation             0 non-null      object        \n",
      " 24  output_space           0 non-null      object        \n",
      " 25  terms_of_service       0 non-null      object        \n",
      " 26  monthly_active_users   0 non-null      object        \n",
      " 27  user_distribution      0 non-null      object        \n",
      " 28  failures               0 non-null      object        \n",
      " 29  inputs                 357 non-null    object        \n",
      " 30  outputs                349 non-null    object        \n",
      " 31  dense                  359 non-null    bool          \n",
      " 32  parameters_(millions)  241 non-null    float64       \n",
      "dtypes: bool(1), datetime64[ns](1), float64(1), int64(1), object(29)\n",
      "memory usage: 92.9+ KB\n"
     ]
    }
   ],
   "source": []
  },
  {
   "cell_type": "code",
   "execution_count": 28,
   "metadata": {},
   "outputs": [],
   "source": [
    "pd.options.display.max_columns = None"
   ]
  },
  {
   "cell_type": "code",
   "execution_count": 22,
   "metadata": {},
   "outputs": [
    {
     "data": {
      "text/html": [
       "<div>\n",
       "<style scoped>\n",
       "    .dataframe tbody tr th:only-of-type {\n",
       "        vertical-align: middle;\n",
       "    }\n",
       "\n",
       "    .dataframe tbody tr th {\n",
       "        vertical-align: top;\n",
       "    }\n",
       "\n",
       "    .dataframe thead th {\n",
       "        text-align: right;\n",
       "    }\n",
       "</style>\n",
       "<table border=\"1\" class=\"dataframe\">\n",
       "  <thead>\n",
       "    <tr style=\"text-align: right;\">\n",
       "      <th></th>\n",
       "      <th>type</th>\n",
       "      <th>name</th>\n",
       "      <th>organization</th>\n",
       "      <th>description</th>\n",
       "      <th>created_date</th>\n",
       "      <th>url</th>\n",
       "      <th>datasheet</th>\n",
       "      <th>sample</th>\n",
       "      <th>analysis</th>\n",
       "      <th>dependencies</th>\n",
       "      <th>...</th>\n",
       "      <th>adaptation</th>\n",
       "      <th>output_space</th>\n",
       "      <th>terms_of_service</th>\n",
       "      <th>monthly_active_users</th>\n",
       "      <th>user_distribution</th>\n",
       "      <th>failures</th>\n",
       "      <th>inputs</th>\n",
       "      <th>outputs</th>\n",
       "      <th>dense</th>\n",
       "      <th>parameters_(millions)</th>\n",
       "    </tr>\n",
       "  </thead>\n",
       "  <tbody>\n",
       "    <tr>\n",
       "      <th>507</th>\n",
       "      <td>model</td>\n",
       "      <td>Grok-1</td>\n",
       "      <td>xAI</td>\n",
       "      <td>Grok is an AI modeled after the Hitchhiker’s G...</td>\n",
       "      <td>2023-11-04</td>\n",
       "      <td>https://grok.x.ai/</td>\n",
       "      <td>NaN</td>\n",
       "      <td>NaN</td>\n",
       "      <td>Grok-1 was evaluated on a range of reasoning b...</td>\n",
       "      <td>[]</td>\n",
       "      <td>...</td>\n",
       "      <td>NaN</td>\n",
       "      <td>NaN</td>\n",
       "      <td>NaN</td>\n",
       "      <td>NaN</td>\n",
       "      <td>NaN</td>\n",
       "      <td>NaN</td>\n",
       "      <td>[text]</td>\n",
       "      <td>[text]</td>\n",
       "      <td>True</td>\n",
       "      <td>314000.0</td>\n",
       "    </tr>\n",
       "    <tr>\n",
       "      <th>508</th>\n",
       "      <td>model</td>\n",
       "      <td>Grok-1.5V</td>\n",
       "      <td>xAI</td>\n",
       "      <td>Grok-1.5V is a first-generation multimodal mod...</td>\n",
       "      <td>2024-04-12</td>\n",
       "      <td>https://x.ai/blog/grok-1.5v</td>\n",
       "      <td>NaN</td>\n",
       "      <td>NaN</td>\n",
       "      <td>The model is evaluated in a zero-shot setting ...</td>\n",
       "      <td>[]</td>\n",
       "      <td>...</td>\n",
       "      <td>NaN</td>\n",
       "      <td>NaN</td>\n",
       "      <td>NaN</td>\n",
       "      <td>NaN</td>\n",
       "      <td>NaN</td>\n",
       "      <td>NaN</td>\n",
       "      <td>[image, text]</td>\n",
       "      <td>[text]</td>\n",
       "      <td>False</td>\n",
       "      <td>NaN</td>\n",
       "    </tr>\n",
       "  </tbody>\n",
       "</table>\n",
       "<p>2 rows × 33 columns</p>\n",
       "</div>"
      ],
      "text/plain": [
       "      type       name organization  \\\n",
       "507  model     Grok-1          xAI   \n",
       "508  model  Grok-1.5V          xAI   \n",
       "\n",
       "                                           description created_date  \\\n",
       "507  Grok is an AI modeled after the Hitchhiker’s G...   2023-11-04   \n",
       "508  Grok-1.5V is a first-generation multimodal mod...   2024-04-12   \n",
       "\n",
       "                             url datasheet sample  \\\n",
       "507           https://grok.x.ai/       NaN    NaN   \n",
       "508  https://x.ai/blog/grok-1.5v       NaN    NaN   \n",
       "\n",
       "                                              analysis dependencies  ...  \\\n",
       "507  Grok-1 was evaluated on a range of reasoning b...           []  ...   \n",
       "508  The model is evaluated in a zero-shot setting ...           []  ...   \n",
       "\n",
       "    adaptation output_space terms_of_service  monthly_active_users  \\\n",
       "507        NaN          NaN              NaN                   NaN   \n",
       "508        NaN          NaN              NaN                   NaN   \n",
       "\n",
       "    user_distribution failures         inputs outputs  dense  \\\n",
       "507               NaN      NaN         [text]  [text]   True   \n",
       "508               NaN      NaN  [image, text]  [text]  False   \n",
       "\n",
       "    parameters_(millions)  \n",
       "507              314000.0  \n",
       "508                   NaN  \n",
       "\n",
       "[2 rows x 33 columns]"
      ]
     },
     "execution_count": 22,
     "metadata": {},
     "output_type": "execute_result"
    }
   ],
   "source": [
    "df[df[\"name\"].str.contains(\"Grok\")]"
   ]
  },
  {
   "cell_type": "code",
   "execution_count": 26,
   "metadata": {},
   "outputs": [],
   "source": [
    "shortlist = df.loc[[268, 212, 399, 428, 412, 56, 65, 445, 427, 508]]"
   ]
  },
  {
   "cell_type": "code",
   "execution_count": 27,
   "metadata": {},
   "outputs": [
    {
     "data": {
      "text/plain": [
       "Index(['type', 'name', 'organization', 'description', 'created_date', 'url',\n",
       "       'datasheet', 'sample', 'analysis', 'dependencies', 'included',\n",
       "       'excluded', 'quality_control', 'access', 'license', 'intended_uses',\n",
       "       'prohibited_uses', 'monitoring', 'feedback', 'model_card',\n",
       "       'training_emissions', 'training_time', 'training_hardware',\n",
       "       'adaptation', 'output_space', 'terms_of_service',\n",
       "       'monthly_active_users', 'user_distribution', 'failures', 'inputs',\n",
       "       'outputs', 'dense', 'parameters_(millions)'],\n",
       "      dtype='object')"
      ]
     },
     "execution_count": 27,
     "metadata": {},
     "output_type": "execute_result"
    }
   ],
   "source": [
    "shortlist.columns"
   ]
  },
  {
   "cell_type": "code",
   "execution_count": 40,
   "metadata": {},
   "outputs": [
    {
     "data": {
      "text/plain": [
       "268            GPT-4\n",
       "212           Gemini\n",
       "399          Llama 3\n",
       "428           Vicuna\n",
       "412         Claude 3\n",
       "56        StableLM 2\n",
       "65     Mistral Large\n",
       "445      Falcon-180B\n",
       "427             DBRX\n",
       "508        Grok-1.5V\n",
       "Name: name, dtype: object"
      ]
     },
     "execution_count": 40,
     "metadata": {},
     "output_type": "execute_result"
    }
   ],
   "source": [
    "shortlist[\"name\"]"
   ]
  }
 ],
 "metadata": {
  "kernelspec": {
   "display_name": "base",
   "language": "python",
   "name": "python3"
  },
  "language_info": {
   "codemirror_mode": {
    "name": "ipython",
    "version": 3
   },
   "file_extension": ".py",
   "mimetype": "text/x-python",
   "name": "python",
   "nbconvert_exporter": "python",
   "pygments_lexer": "ipython3",
   "version": "3.11.7"
  }
 },
 "nbformat": 4,
 "nbformat_minor": 2
}
